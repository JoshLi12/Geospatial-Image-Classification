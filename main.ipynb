{
 "cells": [
  {
   "cell_type": "code",
   "execution_count": 2,
   "id": "0c6ae631",
   "metadata": {},
   "outputs": [],
   "source": [
    "import os\n",
    "import tensorflow as tf\n",
    "import matplotlib.pyplot as plt\n",
    "import numpy as np\n",
    "import kagglehub\n",
    "from collections import defaultdict"
   ]
  },
  {
   "cell_type": "code",
   "execution_count": 3,
   "id": "69987656",
   "metadata": {},
   "outputs": [
    {
     "name": "stdout",
     "output_type": "stream",
     "text": [
      "Downloading from https://www.kaggle.com/api/v1/datasets/download/mahmoudreda55/satellite-image-classification?dataset_version_number=1...\n"
     ]
    },
    {
     "name": "stderr",
     "output_type": "stream",
     "text": [
      "100%|██████████| 21.8M/21.8M [00:01<00:00, 16.1MB/s]"
     ]
    },
    {
     "name": "stdout",
     "output_type": "stream",
     "text": [
      "Extracting files...\n"
     ]
    },
    {
     "name": "stderr",
     "output_type": "stream",
     "text": [
      "\n"
     ]
    },
    {
     "name": "stdout",
     "output_type": "stream",
     "text": [
      "Path to dataset: C:\\Users\\jli20\\.cache\\kagglehub\\datasets\\mahmoudreda55\\satellite-image-classification\\versions\\1\n"
     ]
    }
   ],
   "source": [
    "path = kagglehub.dataset_download(\"mahmoudreda55/satellite-image-classification\")\n",
    "print(\"Path to dataset:\", path)"
   ]
  },
  {
   "cell_type": "code",
   "execution_count": 4,
   "id": "066683b4",
   "metadata": {},
   "outputs": [
    {
     "name": "stdout",
     "output_type": "stream",
     "text": [
      "Class folders: ['cloudy', 'desert', 'green_area', 'water']\n"
     ]
    }
   ],
   "source": [
    "data_path = os.path.join(path, 'data')\n",
    "subfolders = os.listdir(data_path)\n",
    "print(\"Class folders:\", subfolders)"
   ]
  },
  {
   "cell_type": "code",
   "execution_count": 5,
   "id": "282973c2",
   "metadata": {},
   "outputs": [
    {
     "name": "stdout",
     "output_type": "stream",
     "text": [
      "Found 5631 files belonging to 4 classes.\n",
      "Class names: ['cloudy', 'desert', 'green_area', 'water']\n"
     ]
    }
   ],
   "source": [
    "img_size = (224, 224)\n",
    "batch_size = 16\n",
    "\n",
    "dataset = tf.keras.utils.image_dataset_from_directory(\n",
    "    data_path,\n",
    "    image_size=img_size,\n",
    "    batch_size=batch_size,\n",
    "    shuffle=True\n",
    ")\n",
    "\n",
    "unbatched_ds = dataset.unbatch()\n",
    "\n",
    "class_names = dataset.class_names\n",
    "print(\"Class names:\", class_names)"
   ]
  },
  {
   "cell_type": "code",
   "execution_count": 6,
   "id": "9c23762a",
   "metadata": {},
   "outputs": [],
   "source": [
    "\"\"\"\n",
    "{\n",
    "  'cloudy': [(img1, lbl1), (img2, lbl2)]\n",
    "  'desert': [.......]\n",
    "  ......\n",
    "}\n",
    "\"\"\"\n",
    "\n",
    "class_datasets = defaultdict(list)\n",
    "\n",
    "for image, label in unbatched_ds:\n",
    "    class_idx = int(label.numpy())\n",
    "    class_name = class_names[class_idx]\n",
    "    class_datasets[class_name].append((image, label))"
   ]
  },
  {
   "cell_type": "code",
   "execution_count": 7,
   "id": "7fd8de55",
   "metadata": {},
   "outputs": [],
   "source": [
    "def make_class_dataset(data_tuples, batch_size):\n",
    "    imgs, labels = zip(*data_tuples)\n",
    "    ds = tf.data.Dataset.from_tensor_slices((list(imgs), list(labels)))\n",
    "    return ds.batch(batch_size).cache().prefetch(buffer_size=tf.data.AUTOTUNE)"
   ]
  },
  {
   "cell_type": "code",
   "execution_count": 8,
   "id": "8b449305",
   "metadata": {},
   "outputs": [],
   "source": [
    "cloudy_ds = make_class_dataset(class_datasets[\"cloudy\"], batch_size)\n",
    "desert_ds = make_class_dataset(class_datasets[\"desert\"], batch_size)\n",
    "green_ds  = make_class_dataset(class_datasets[\"green_area\"], batch_size)\n",
    "water_ds  = make_class_dataset(class_datasets[\"water\"], batch_size)"
   ]
  },
  {
   "cell_type": "code",
   "execution_count": 9,
   "id": "68c1460e",
   "metadata": {},
   "outputs": [],
   "source": [
    "def count_images(dataset):\n",
    "    return sum(1 for _ in dataset.unbatch())"
   ]
  },
  {
   "cell_type": "code",
   "execution_count": 10,
   "id": "acf2a147",
   "metadata": {},
   "outputs": [
    {
     "name": "stdout",
     "output_type": "stream",
     "text": [
      "Cloudy images: 1500\n",
      "Desert images: 1131\n",
      "Green images: 1500\n",
      "Water images: 1500\n"
     ]
    }
   ],
   "source": [
    "print(\"Cloudy images:\", count_images(cloudy_ds))\n",
    "print(\"Desert images:\", count_images(desert_ds))\n",
    "print(\"Green images:\", count_images(green_ds))\n",
    "print(\"Water images:\", count_images(water_ds))"
   ]
  },
  {
   "cell_type": "code",
   "execution_count": null,
   "id": "f92e2061",
   "metadata": {},
   "outputs": [],
   "source": [
    "# class_names = dataset.class_names\n",
    "\n",
    "# import matplotlib.pyplot as plt\n",
    "\n",
    "\n",
    "# number_of_images = 12\n",
    "\n",
    "# plt.figure(figsize=(10, 10))\n",
    "# for images, labels in dataset.take(1):  # One batch\n",
    "#     for i in range(number_of_images):\n",
    "#         ax = plt.subplot(number_of_images//4, 4, i + 1)\n",
    "#         plt.imshow(images[i].numpy().astype(\"uint8\"))\n",
    "#         plt.title(class_names[labels[i]])\n",
    "#         plt.axis(\"off\")"
   ]
  },
  {
   "cell_type": "code",
   "execution_count": null,
   "id": "c1789688",
   "metadata": {},
   "outputs": [],
   "source": [
    "# train_ds = tf.keras.utils.image_dataset_from_directory(\n",
    "#     data_path,\n",
    "#     validation_split=0.2,      # 20% for validation\n",
    "#     subset=\"training\",\n",
    "#     seed=42,\n",
    "#     image_size=img_size,\n",
    "#     batch_size=batch_size\n",
    "# )\n",
    "\n",
    "# val_ds = tf.keras.utils.image_dataset_from_directory(\n",
    "#     data_path,\n",
    "#     validation_split=0.2,\n",
    "#     subset=\"validation\",\n",
    "#     seed=42,\n",
    "#     image_size=img_size,\n",
    "#     batch_size=batch_size\n",
    "# )\n",
    "\n",
    "# print(\"Train batches:\", tf.data.experimental.cardinality(train_ds).numpy())\n",
    "# print(\"Val batches:\", tf.data.experimental.cardinality(val_ds).numpy())\n"
   ]
  },
  {
   "cell_type": "code",
   "execution_count": null,
   "id": "5c275bd4",
   "metadata": {},
   "outputs": [],
   "source": [
    "# from collections import Counter\n",
    "\n",
    "# train_counter = Counter()\n",
    "\n",
    "# for _, label in train_ds.unbatch():\n",
    "#     train_counter[int(label.numpy())] += 1\n",
    "\n",
    "# # Map class indices to names\n",
    "# class_names = train_ds.class_names\n",
    "# train_distribution = {class_names[i]: count for i, count in train_counter.items()}\n",
    "\n",
    "# print(\"Training set class distribution:\")\n",
    "# for k, v in train_distribution.items():\n",
    "#     print(f\"{k}: {v}\")"
   ]
  },
  {
   "cell_type": "code",
   "execution_count": 12,
   "id": "2c2a1527",
   "metadata": {},
   "outputs": [],
   "source": [
    "shuffled_cloudy = (\n",
    "    cloudy_ds\n",
    "    .shuffle(buffer_size=1000)\n",
    "    .batch(32)\n",
    "    .prefetch(tf.data.AUTOTUNE)\n",
    ")\n",
    "\n",
    "shuffled_green = (\n",
    "    green_ds\n",
    "    .shuffle(buffer_size=1000)\n",
    "    .batch(32)\n",
    "    .prefetch(tf.data.AUTOTUNE)\n",
    ")\n",
    "\n",
    "shuffled_desert = (\n",
    "    desert_ds\n",
    "    .shuffle(buffer_size=1000)\n",
    "    .batch(32)\n",
    "    .prefetch(tf.data.AUTOTUNE)\n",
    ")\n",
    "\n",
    "shuffled_water = (\n",
    "    water_ds\n",
    "    .shuffle(buffer_size=1000)\n",
    "    .batch(32)\n",
    "    .prefetch(tf.data.AUTOTUNE)\n",
    ")"
   ]
  },
  {
   "cell_type": "code",
   "execution_count": null,
   "id": "fae0474d",
   "metadata": {},
   "outputs": [],
   "source": []
  }
 ],
 "metadata": {
  "kernelspec": {
   "display_name": "Python 3",
   "language": "python",
   "name": "python3"
  },
  "language_info": {
   "codemirror_mode": {
    "name": "ipython",
    "version": 3
   },
   "file_extension": ".py",
   "mimetype": "text/x-python",
   "name": "python",
   "nbconvert_exporter": "python",
   "pygments_lexer": "ipython3",
   "version": "3.12.0"
  }
 },
 "nbformat": 4,
 "nbformat_minor": 5
}
