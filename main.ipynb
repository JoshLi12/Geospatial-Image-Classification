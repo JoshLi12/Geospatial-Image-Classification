{
 "cells": [
  {
   "cell_type": "code",
   "execution_count": 2,
   "id": "0c6ae631",
   "metadata": {},
   "outputs": [],
   "source": [
    "import os\n",
    "import tensorflow as tf\n",
    "import matplotlib.pyplot as plt\n",
    "import numpy as np\n",
    "import kagglehub\n",
    "from collections import defaultdict"
   ]
  },
  {
   "cell_type": "code",
   "execution_count": 3,
   "id": "69987656",
   "metadata": {},
   "outputs": [
    {
     "name": "stdout",
     "output_type": "stream",
     "text": [
      "Downloading from https://www.kaggle.com/api/v1/datasets/download/mahmoudreda55/satellite-image-classification?dataset_version_number=1...\n"
     ]
    },
    {
     "name": "stderr",
     "output_type": "stream",
     "text": [
      "100%|██████████| 21.8M/21.8M [00:01<00:00, 16.1MB/s]"
     ]
    },
    {
     "name": "stdout",
     "output_type": "stream",
     "text": [
      "Extracting files...\n"
     ]
    },
    {
     "name": "stderr",
     "output_type": "stream",
     "text": [
      "\n"
     ]
    },
    {
     "name": "stdout",
     "output_type": "stream",
     "text": [
      "Path to dataset: C:\\Users\\jli20\\.cache\\kagglehub\\datasets\\mahmoudreda55\\satellite-image-classification\\versions\\1\n"
     ]
    }
   ],
   "source": [
    "path = kagglehub.dataset_download(\"mahmoudreda55/satellite-image-classification\")\n",
    "print(\"Path to dataset:\", path)"
   ]
  },
  {
   "cell_type": "code",
   "execution_count": 4,
   "id": "066683b4",
   "metadata": {},
   "outputs": [
    {
     "name": "stdout",
     "output_type": "stream",
     "text": [
      "Class folders: ['cloudy', 'desert', 'green_area', 'water']\n"
     ]
    }
   ],
   "source": [
    "data_path = os.path.join(path, 'data')\n",
    "subfolders = os.listdir(data_path)\n",
    "print(\"Class folders:\", subfolders)"
   ]
  },
  {
   "cell_type": "code",
   "execution_count": 5,
   "id": "282973c2",
   "metadata": {},
   "outputs": [
    {
     "name": "stdout",
     "output_type": "stream",
     "text": [
      "Found 5631 files belonging to 4 classes.\n",
      "Class names: ['cloudy', 'desert', 'green_area', 'water']\n"
     ]
    }
   ],
   "source": [
    "img_size = (224, 224)\n",
    "batch_size = 16\n",
    "\n",
    "dataset = tf.keras.utils.image_dataset_from_directory(\n",
    "    data_path,\n",
    "    image_size=img_size,\n",
    "    batch_size=batch_size,\n",
    "    shuffle=True\n",
    ")\n",
    "\n",
    "unbatched_ds = dataset.unbatch()\n",
    "\n",
    "class_names = dataset.class_names\n",
    "print(\"Class names:\", class_names)"
   ]
  },
  {
   "cell_type": "code",
   "execution_count": 6,
   "id": "9c23762a",
   "metadata": {},
   "outputs": [],
   "source": [
    "\"\"\"\n",
    "{\n",
    "  'cloudy': [(img1, lbl1), (img2, lbl2)]\n",
    "  'desert': [.......]\n",
    "  ......\n",
    "}\n",
    "\"\"\"\n",
    "\n",
    "class_datasets = defaultdict(list)\n",
    "\n",
    "for image, label in unbatched_ds:\n",
    "    class_idx = int(label.numpy())\n",
    "    class_name = class_names[class_idx]\n",
    "    class_datasets[class_name].append((image, label))"
   ]
  },
  {
   "cell_type": "code",
   "execution_count": 7,
   "id": "7fd8de55",
   "metadata": {},
   "outputs": [],
   "source": [
    "def make_class_dataset(data_tuples, batch_size):\n",
    "    imgs, labels = zip(*data_tuples)\n",
    "    ds = tf.data.Dataset.from_tensor_slices((list(imgs), list(labels)))\n",
    "    return ds.batch(batch_size).cache().prefetch(buffer_size=tf.data.AUTOTUNE)"
   ]
  },
  {
   "cell_type": "code",
   "execution_count": 8,
   "id": "8b449305",
   "metadata": {},
   "outputs": [],
   "source": [
    "cloudy_ds = make_class_dataset(class_datasets[\"cloudy\"], batch_size)\n",
    "desert_ds = make_class_dataset(class_datasets[\"desert\"], batch_size)\n",
    "green_ds  = make_class_dataset(class_datasets[\"green_area\"], batch_size)\n",
    "water_ds  = make_class_dataset(class_datasets[\"water\"], batch_size)"
   ]
  },
  {
   "cell_type": "code",
   "execution_count": 9,
   "id": "68c1460e",
   "metadata": {},
   "outputs": [],
   "source": [
    "def count_images(dataset):\n",
    "    return sum(1 for _ in dataset.unbatch())"
   ]
  },
  {
   "cell_type": "code",
   "execution_count": 10,
   "id": "acf2a147",
   "metadata": {},
   "outputs": [
    {
     "name": "stdout",
     "output_type": "stream",
     "text": [
      "Cloudy images: 1500\n",
      "Desert images: 1131\n",
      "Green images: 1500\n",
      "Water images: 1500\n"
     ]
    }
   ],
   "source": [
    "print(\"Cloudy images:\", count_images(cloudy_ds))\n",
    "print(\"Desert images:\", count_images(desert_ds))\n",
    "print(\"Green images:\", count_images(green_ds))\n",
    "print(\"Water images:\", count_images(water_ds))"
   ]
  },
  {
   "cell_type": "code",
   "execution_count": null,
   "id": "f92e2061",
   "metadata": {},
   "outputs": [],
   "source": [
    "# class_names = dataset.class_names\n",
    "\n",
    "# import matplotlib.pyplot as plt\n",
    "\n",
    "\n",
    "# number_of_images = 12\n",
    "\n",
    "# plt.figure(figsize=(10, 10))\n",
    "# for images, labels in dataset.take(1):  # One batch\n",
    "#     for i in range(number_of_images):\n",
    "#         ax = plt.subplot(number_of_images//4, 4, i + 1)\n",
    "#         plt.imshow(images[i].numpy().astype(\"uint8\"))\n",
    "#         plt.title(class_names[labels[i]])\n",
    "#         plt.axis(\"off\")"
   ]
  },
  {
   "cell_type": "code",
   "execution_count": null,
   "id": "c1789688",
   "metadata": {},
   "outputs": [],
   "source": []
  }
 ],
 "metadata": {
  "kernelspec": {
   "display_name": "Python 3",
   "language": "python",
   "name": "python3"
  },
  "language_info": {
   "codemirror_mode": {
    "name": "ipython",
    "version": 3
   },
   "file_extension": ".py",
   "mimetype": "text/x-python",
   "name": "python",
   "nbconvert_exporter": "python",
   "pygments_lexer": "ipython3",
   "version": "3.12.0"
  }
 },
 "nbformat": 4,
 "nbformat_minor": 5
}
